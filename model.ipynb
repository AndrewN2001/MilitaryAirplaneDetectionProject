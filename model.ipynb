{
 "cells": [
  {
   "cell_type": "code",
   "execution_count": 1,
   "metadata": {},
   "outputs": [],
   "source": [
    "import tensorflow as tf\n",
    "import numpy as np\n",
    "from tensorflow.keras.applications import ResNet50\n",
    "from tensorflow.keras.applications.resnet50 import preprocess_input\n",
    "from tensorflow.keras import layers, models\n",
    "from tensorflow.keras.callbacks import ModelCheckpoint, EarlyStopping\n",
    "from tensorflow.keras.preprocessing import image_dataset_from_directory\n",
    "import matplotlib.pyplot as plt"
   ]
  },
  {
   "cell_type": "code",
   "execution_count": 3,
   "metadata": {},
   "outputs": [
    {
     "ename": "NameError",
     "evalue": "name 'image_dataset_from_directory' is not defined",
     "output_type": "error",
     "traceback": [
      "\u001b[0;31m---------------------------------------------------------------------------\u001b[0m",
      "\u001b[0;31mNameError\u001b[0m                                 Traceback (most recent call last)",
      "Cell \u001b[0;32mIn[3], line 5\u001b[0m\n\u001b[1;32m      2\u001b[0m dataset_path \u001b[38;5;241m=\u001b[39m \u001b[38;5;124m'\u001b[39m\u001b[38;5;124marchive/crop/\u001b[39m\u001b[38;5;124m'\u001b[39m\n\u001b[1;32m      4\u001b[0m \u001b[38;5;66;03m#splitting into training and validation\u001b[39;00m\n\u001b[0;32m----> 5\u001b[0m train_data \u001b[38;5;241m=\u001b[39m image_dataset_from_directory(\n\u001b[1;32m      6\u001b[0m     dataset_path,\n\u001b[1;32m      7\u001b[0m     validation_split \u001b[38;5;241m=\u001b[39m \u001b[38;5;241m0.3\u001b[39m,\n\u001b[1;32m      8\u001b[0m     seed \u001b[38;5;241m=\u001b[39m \u001b[38;5;241m23\u001b[39m,\n\u001b[1;32m      9\u001b[0m     subset \u001b[38;5;241m=\u001b[39m \u001b[38;5;124m'\u001b[39m\u001b[38;5;124mtraining\u001b[39m\u001b[38;5;124m'\u001b[39m,\n\u001b[1;32m     10\u001b[0m     image_size\u001b[38;5;241m=\u001b[39m(\u001b[38;5;241m128\u001b[39m, \u001b[38;5;241m128\u001b[39m),  \u001b[38;5;66;03m# Adjust the image size to 128 x 128 for faster processing\u001b[39;00m\n\u001b[1;32m     11\u001b[0m     batch_size\u001b[38;5;241m=\u001b[39m\u001b[38;5;241m32\u001b[39m,          \u001b[38;5;66;03m# How many samples we want to load / batch\u001b[39;00m\n\u001b[1;32m     12\u001b[0m     shuffle\u001b[38;5;241m=\u001b[39m\u001b[38;5;28;01mTrue\u001b[39;00m            \n\u001b[1;32m     13\u001b[0m )\n\u001b[1;32m     15\u001b[0m valid_data \u001b[38;5;241m=\u001b[39m image_dataset_from_directory(\n\u001b[1;32m     16\u001b[0m     dataset_path,\n\u001b[1;32m     17\u001b[0m     validation_split \u001b[38;5;241m=\u001b[39m \u001b[38;5;241m0.3\u001b[39m,\n\u001b[0;32m   (...)\u001b[0m\n\u001b[1;32m     22\u001b[0m     shuffle\u001b[38;5;241m=\u001b[39m\u001b[38;5;28;01mTrue\u001b[39;00m\n\u001b[1;32m     23\u001b[0m )\n\u001b[1;32m     25\u001b[0m \u001b[38;5;66;03m# Split validation_data into validation & test set\u001b[39;00m\n",
      "\u001b[0;31mNameError\u001b[0m: name 'image_dataset_from_directory' is not defined"
     ]
    }
   ],
   "source": [
    "#path to our cropped images\n",
    "dataset_path = 'archive/crop/'\n",
    "\n",
    "#splitting into training and validation\n",
    "train_data = image_dataset_from_directory(\n",
    "    dataset_path,\n",
    "    validation_split = 0.3,\n",
    "    seed = 23,\n",
    "    subset = 'training',\n",
    "    image_size=(128, 128),  # Adjust the image size to 128 x 128 for faster processing\n",
    "    batch_size=32,          # How many samples we want to load / batch\n",
    "    shuffle=True            \n",
    ")\n",
    "\n",
    "valid_data = image_dataset_from_directory(\n",
    "    dataset_path,\n",
    "    validation_split = 0.3,\n",
    "    seed = 23,\n",
    "    subset = 'validation',\n",
    "    image_size=(128, 128),\n",
    "    batch_size=32,\n",
    "    shuffle=True\n",
    ")\n",
    "\n",
    "# Split validation_data into validation & test set\n",
    "val_batches = tf.data.experimental.cardinality(valid_data) # takes the number of batches within the validation data\n",
    "test_data = valid_data.take(val_batches // 4) # takes the \n",
    "val_data = valid_data.skip(val_batches // 4)\n",
    "\n",
    "class_names = train_data.class_names"
   ]
  }
 ],
 "metadata": {
  "kernelspec": {
   "display_name": "Python 3",
   "language": "python",
   "name": "python3"
  },
  "language_info": {
   "codemirror_mode": {
    "name": "ipython",
    "version": 3
   },
   "file_extension": ".py",
   "mimetype": "text/x-python",
   "name": "python",
   "nbconvert_exporter": "python",
   "pygments_lexer": "ipython3",
   "version": "3.11.7"
  }
 },
 "nbformat": 4,
 "nbformat_minor": 2
}
