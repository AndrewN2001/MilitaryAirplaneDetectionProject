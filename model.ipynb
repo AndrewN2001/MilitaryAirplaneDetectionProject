{
 "cells": [
  {
   "cell_type": "markdown",
   "metadata": {},
   "source": [
    "1. Data Preparation.ipynb\n",
    "\n",
    "Purpose: Load, clean, and preprocess the dataset.\n",
    "Contents:\n",
    "Import and inspect data.\n",
    "Visualize samples of images and classes.\n",
    "Preprocess images (resize, normalize, etc.).\n",
    "Split data into training, validation, and test sets.\n",
    "Save processed data to disk (if needed) to avoid re-running preprocessing steps."
   ]
  },
  {
   "cell_type": "code",
   "execution_count": null,
   "metadata": {},
   "outputs": [],
   "source": [
    "from PIL import Image\n",
    "import os\n",
    "\n",
    "def resize_images(input_dir, output_dir, size=(128, 128)):\n",
    "    if not os.path.exists(output_dir):\n",
    "        os.makedirs(output_dir)\n",
    "\n",
    "    for folder in os.listdir(input_dir):\n",
    "        folder_path = os.path.join(input_dir, folder)\n",
    "        output_folder_path = os.path.join(output_dir, folder)\n",
    "        if not os.path.exists(output_folder_path):\n",
    "            os.makedirs(output_folder_path)\n",
    "\n",
    "        for image_file in os.listdir(folder_path):\n",
    "            image_path = os.path.join(folder_path, image_file)\n",
    "            img = Image.open(image_path)\n",
    "            img = img.resize(size)\n",
    "            img.save(os.path.join(output_folder_path, image_file))\n",
    "\n",
    "resize_images('archive/crop', 'dataset_resized')"
   ]
  }
 ],
 "metadata": {
  "kernelspec": {
   "display_name": "Python 3",
   "language": "python",
   "name": "python3"
  },
  "language_info": {
   "codemirror_mode": {
    "name": "ipython",
    "version": 3
   },
   "file_extension": ".py",
   "mimetype": "text/x-python",
   "name": "python",
   "nbconvert_exporter": "python",
   "pygments_lexer": "ipython3",
   "version": "3.11.9"
  }
 },
 "nbformat": 4,
 "nbformat_minor": 2
}
